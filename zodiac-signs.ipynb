{
 "cells": [
  {
   "cell_type": "code",
   "execution_count": 28,
   "metadata": {},
   "outputs": [],
   "source": [
    "import locale\n",
    "import datetime\n",
    "import pandas as pd\n",
    "import csv\n",
    "\n",
    "df = pd.read_csv('converted_birthdate.csv')\n",
    "\n",
    "sign_dates = (\n",
    "    ((20, 3), (19, 4)),  # Aries\n",
    "    ((20, 4), (20, 5)),  # Taurus\n",
    "    ((21, 5), (20, 6)),  # Gemini\n",
    "    ((21, 6), (22, 7)),  # Cancer\n",
    "    ((23, 7), (22, 8)),  # Leo\n",
    "    ((23, 8), (22, 9)),  # Virgo\n",
    "    ((23, 9), (22, 10)),  # Libra\n",
    "    ((23, 10), (21, 11)),  # Scorpio\n",
    "    ((22, 11), (21, 12)),  # Sagittarius\n",
    "    ((22, 12), (19, 1)),  # Capricorn\n",
    "    ((20, 1), (17, 2)),  # Aquarius\n",
    "    ((18, 2), (19, 3)),  # Pisces\n",
    ")\n",
    "\n",
    "zodiac_signs = {\n",
    "    0: \"Aries\",\n",
    "    1: \"Taurus\",\n",
    "    2: \"Gemini\",\n",
    "    3: \"Cancer\",\n",
    "    4: \"Leo\",\n",
    "    5: \"Virgo\",\n",
    "    6: \"Libra\",\n",
    "    7: \"Scorpio\",\n",
    "    8: \"Sagittarius\",\n",
    "    9: \"Capricorn\",\n",
    "    10: \"Aquarius\",\n",
    "    11: \"Pisces\"\n",
    "}\n",
    "\n",
    "df['Day'] = df['Day'].fillna(1).astype(int)\n",
    "df['Month'] = df['Month'].fillna(1).astype(int)\n",
    "\n",
    "def get_zodiac_sign(d, month=None):\n",
    "    if month is None:\n",
    "        month = int(d.month)\n",
    "        day = int(d.day)\n",
    "    else:\n",
    "        day = int(d)\n",
    "        month = int(month)\n",
    "    for index, sign in enumerate(sign_dates):\n",
    "        if (month == sign[0][1] and day >= sign[0][0]) or (month == sign[1][1] and day <= sign[1][0]):\n",
    "            return (index)\n",
    "    return None\n",
    "\n",
    "df['Zodiac Sign'] = df.apply(lambda row: get_zodiac_sign(row['Day'], row['Month']), axis=1)\n",
    "df['Zodiac Name'] = df['Zodiac Sign'].map(zodiac_signs)\n",
    "\n",
    "df.to_csv('islander_zodiac_signs.csv', index=False)"
   ]
  }
 ],
 "metadata": {
  "kernelspec": {
   "display_name": "Python 3",
   "language": "python",
   "name": "python3"
  },
  "language_info": {
   "codemirror_mode": {
    "name": "ipython",
    "version": 3
   },
   "file_extension": ".py",
   "mimetype": "text/x-python",
   "name": "python",
   "nbconvert_exporter": "python",
   "pygments_lexer": "ipython3",
   "version": "3.12.1"
  }
 },
 "nbformat": 4,
 "nbformat_minor": 2
}
