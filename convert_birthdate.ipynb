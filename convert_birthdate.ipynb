{
 "cells": [
  {
   "cell_type": "code",
   "execution_count": null,
   "metadata": {},
   "outputs": [],
   "source": [
    "import locale\n",
    "import datetime\n",
    "import pandas as pd\n",
    "import csv\n",
    "\n",
    "df = pd.read_csv('name_birthdate.csv')\n",
    "\n",
    "df['birthdate'] = pd.to_datetime(df['birthdate'])\n",
    "df['birthdate'] = df['birthdate'].dt.strftime('%d-%m-%Y')\n",
    "\n",
    "df [['Day', 'Month', 'Year']] = df['birthdate'].str.split('-', expand=True)\n",
    "\n",
    "df.to_csv('converted_birthdate.csv', index=False)\n",
    "\n",
    "\n",
    "#df.head(10)\n",
    "#print(df)"
   ]
  }
 ],
 "metadata": {
  "kernelspec": {
   "display_name": "Python 3",
   "language": "python",
   "name": "python3"
  },
  "language_info": {
   "codemirror_mode": {
    "name": "ipython",
    "version": 3
   },
   "file_extension": ".py",
   "mimetype": "text/x-python",
   "name": "python",
   "nbconvert_exporter": "python",
   "pygments_lexer": "ipython3",
   "version": "3.12.1"
  }
 },
 "nbformat": 4,
 "nbformat_minor": 2
}
