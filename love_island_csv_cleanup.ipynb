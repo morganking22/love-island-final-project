{
 "cells": [
  {
   "cell_type": "code",
   "execution_count": null,
   "metadata": {},
   "outputs": [],
   "source": [
    "import pandas as pd\n",
    "import matplotlib.pyplot as plt\n",
    "\n",
    "import csv\n",
    "\n",
    "love_island_df = pd.read_csv('love_island_export.csv')\n",
    "zodiac_signs_df = pd.read_csv('islander_zodiac_signs.csv')\n",
    "\n",
    "merged_df = pd.merge(love_island_df, zodiac_signs_df, on='name', how='inner')\n",
    "\n",
    "all_data_df = pd.DataFrame(merged_df)\n",
    "\n",
    "all_data_df['first name'] = all_data_df['name'].str.rsplit(n=1).str[0]\n",
    "all_data_df['last name'] = all_data_df['name'].str.rsplit(n=1).str[1]\n",
    "\n",
    "column_order = ['first name', 'last name', 'image_href', 'gender', 'age', 'birthdate_x', 'birthdate_y', 'Zodiac Name', 'occupation', 'hometown', 'entered', 'left', 'status', 'spouses', 'children']\n",
    "\n",
    "all_data_df = all_data_df.reindex(columns=column_order)\n",
    "\n",
    "all_data_df.head(10)\n",
    "\n",
    "all_data_df['occupation'] = all_data_df['occupation'].str.replace(\"-\", \"\")\n",
    "all_data_df['occupation'] = all_data_df['occupation'].str.replace(\"Glamour model\", \"Model\")\n",
    "all_data_df['occupation'] = all_data_df['occupation'].str.replace(\"Glamour Model\", \"Model\")\n",
    "all_data_df['occupation'] = all_data_df['occupation'].str.replace(\"High fashion model\", \"Model\")\n",
    "all_data_df['occupation'] = all_data_df['occupation'].str.replace(\"SemiProfessional Footballer\", \"Football Player\")\n",
    "all_data_df['occupation'] = all_data_df['occupation'].str.replace(\"Semiprofessional footballer\", \"Football Player\")\n",
    "all_data_df['occupation'] = all_data_df['occupation'].str.replace(\"Semipro footballer\", \"Football Player\")\n",
    "all_data_df['occupation'] = all_data_df['occupation'].str.replace(\"Professional Footballer\", \"Football Player\")\n",
    "all_data_df['occupation'] = all_data_df['occupation'].str.replace(\"Professional footballer\", \"Football Player\")\n",
    "all_data_df['occupation'] = all_data_df['occupation'].str.replace(\"professional Footballer\", \"Football Player\")\n",
    "all_data_df['occupation'] = all_data_df['occupation'].str.replace(\"Former professional footballer\", \"Football Player\")\n",
    "all_data_df['occupation'] = all_data_df['occupation'].str.replace(\"Footballer\", \"Football Player\")\n",
    "all_data_df['occupation'] = all_data_df['occupation'].str.replace(\"SemiFootball Player\", \"Football Player\")\n",
    "all_data_df['occupation'] = all_data_df['occupation'].str.replace(\"Personal trainer\", \"Personal Trainer\")\n",
    "\n",
    "# Different Data Visualization Exports\n",
    "# gender_filter = 'Male'\n",
    "# filtered_df = all_data_df[all_data_df['gender'] == gender_filter]\n",
    "#name_counts = filtered_df['first name'].value_counts()[:12]\n",
    "#name_counts.plot(kind='barh', title=f\"Most Common First Names for {gender_filter} Contestants\")\n",
    "# occupation_counts = filtered_df['occupation'].value_counts()[:12]\n",
    "# occupation_counts.plot(kind='barh', title=f\"Most Common Occupation for {gender_filter} Contestants\")\n",
    "\n",
    "#all_data_df['age'].value_counts()[:15].plot(kind='barh', title='Love Island:\\nMost Common Current Age')\n",
    "#all_data_df['gender'].value_counts()[:2].plot(kind='barh', figsize=(10, 10), title='Love Island\\nGender Make-up of Contestants\"')\n",
    "\n",
    "all_data_df.to_csv('all_data.csv', index=False)\n"
   ]
  }
 ],
 "metadata": {
  "kernelspec": {
   "display_name": "Python 3",
   "language": "python",
   "name": "python3"
  },
  "language_info": {
   "codemirror_mode": {
    "name": "ipython",
    "version": 3
   },
   "file_extension": ".py",
   "mimetype": "text/x-python",
   "name": "python",
   "nbconvert_exporter": "python",
   "pygments_lexer": "ipython3",
   "version": "3.12.1"
  }
 },
 "nbformat": 4,
 "nbformat_minor": 2
}
