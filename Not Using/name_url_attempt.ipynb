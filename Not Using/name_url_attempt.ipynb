{
 "cells": [
  {
   "cell_type": "code",
   "execution_count": 33,
   "metadata": {},
   "outputs": [
    {
     "name": "stdout",
     "output_type": "stream",
     "text": [
      "<table style=\"text-align:center;\" width=\"100%\">\n",
      "<tbody><tr>\n",
      "<th style=\"background:#6ed1df; color: white; border: font-size: 100%; padding:0.5em;\"><span style=\"color:white; font-size:100%\"><a href=\"/wiki/Category:Series\" title=\"Category:Series\"><span style=\"color:white; font-size:100%\">Franchises</span></a>    •    <a href=\"/wiki/Category:Seasons\" title=\"Category:Seasons\"><span style=\"color:white; font-size:100%\">Seasons</span></a>    •    <a href=\"/wiki/Category:Islanders\" title=\"Category:Islanders\"><span style=\"color:white; font-size:100%\">Islanders</span></a>    •    <a href=\"/wiki/Template:BirthdayNav\" title=\"Template:BirthdayNav\"><span style=\"color:white; font-size:100%\">Birthdays</span></a>    •    <a href=\"/wiki/Category:Nationalities\" title=\"Category:Nationalities\"><span style=\"color:white; font-size:100%\">Nationalities</span></a></span>\n",
      "</th></tr></tbody></table>\n"
     ]
    }
   ],
   "source": [
    "import requests\n",
    "from bs4 import BeautifulSoup\n",
    "\n",
    "url = \"https://loveisland.fandom.com/wiki/Love_Island_(Season_4)\"\n",
    "\n",
    "response = requests.get(url)\n",
    "\n",
    "if response.status_code == 200:\n",
    "    soup = BeautifulSoup(response.content, 'html.parser')\n",
    "    # Find the specific <td> element containing the link\n",
    "    table = soup.find('table')\n",
    "    if table:\n",
    "        rows = table.find_all('tr')\n",
    "        for row in rows[1:]:\n",
    "            cells = row.find_all('td')\n",
    "            if len(cells) >= 2:\n",
    "                name_url = cells[0].text.strip()\n",
    "                print(name_url)\n",
    "\n",
    "\n",
    "\n",
    "\n",
    "    tr_element = soup.find('tr')\n",
    "        if tr_element\n",
    "    print(td_element)\n",
    "\n",
    "    if td_element:\n",
    "        # Extract the link (<a>) within the <td> element\n",
    "        link_element = td_element.find('a')\n",
    "        if link_element:\n",
    "            # Extract the name and URL\n",
    "            name = link_element.text.strip()\n",
    "            url = link_element['href']  # This will give you '/wiki/Harley_Judge'\n",
    "            full_url = f\"https://loveisland.fandom.com{url}\"  # Complete URL\n",
    "            print(f\"Name: {name}, URL: {full_url}\")\n",
    "\n"
   ]
  }
 ],
 "metadata": {
  "kernelspec": {
   "display_name": "Python 3",
   "language": "python",
   "name": "python3"
  },
  "language_info": {
   "codemirror_mode": {
    "name": "ipython",
    "version": 3
   },
   "file_extension": ".py",
   "mimetype": "text/x-python",
   "name": "python",
   "nbconvert_exporter": "python",
   "pygments_lexer": "ipython3",
   "version": "3.12.1"
  }
 },
 "nbformat": 4,
 "nbformat_minor": 2
}
