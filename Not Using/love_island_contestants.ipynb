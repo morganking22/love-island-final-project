{
 "cells": [
  {
   "cell_type": "code",
   "execution_count": 125,
   "metadata": {},
   "outputs": [
    {
     "name": "stdout",
     "output_type": "stream",
     "text": [
      "{'Name': 'Jessica Hayes', 'Gender': 'Female', 'Age': 'Female', 'Birthday': None, 'Occupation': None, 'Hometown': None}\n"
     ]
    }
   ],
   "source": [
    "from bs4 import BeautifulSoup\n",
    "import requests\n",
    "import csv\n",
    "#print(response.status_code)\n",
    "\n",
    "url = \"https://loveisland.fandom.com/wiki/Jessica_Hayes\"\n",
    "#use the f + r function to replace the name value with the first element in the dictionary\n",
    "\n",
    "response = requests.get(url)\n",
    "soup = BeautifulSoup(response.content, 'html.parser')\n",
    "\n",
    "table = soup.find({\"aside role\": \"region\"})\n",
    "\n",
    "header = soup.findAll(\"h3\") \n",
    "value = soup.findAll(\"div class\")\n",
    "\n",
    "all_islander_info = soup.findAll('aside', attrs={'role': 'region', 'class': 'portable-infobox pi-background pi-border-color pi-theme-wikia pi-layout-default'})\n",
    "\n",
    "#print(all_islander_info)\n",
    "\n",
    "for div in all_islander_info:\n",
    "    div_element = div.find('div')\n",
    "\n",
    "contestant = {\n",
    "    'Name' : None,\n",
    "    'Gender' : None,\n",
    "    'Age' : None,\n",
    "    'Birthday' : None,\n",
    "    'Occupation' : None,\n",
    "    'Hometown' : None\n",
    "        \n",
    "    }\n",
    "\n",
    "name_element = div.find('h2', attrs={'class': 'pi-item pi-item-spacing pi-title pi-secondary-background'})\n",
    "#<h2 class=\"pi-item pi-item-spacing pi-title pi-secondary-background\" data-source=\"Name\">Jessica Hayes</h2>\n",
    "if name_element != None:\n",
    "    contestant['Name'] = name_element.text.strip()\n",
    "\n",
    "gender_element = div.find('div', attrs={'class': 'pi-data-value pi-font'})\n",
    "#<div class=\"pi-data-value pi-font\">Female</div>\n",
    "if gender_element != None:\n",
    "    contestant['Gender'] = gender_element.text.strip()\n",
    "# THIS WAS AN ATTEMPT TO UTILIZE FIND NEXT SIBLING TO GET THE NEXT DIV VALUE\n",
    "# age_element = gender_element.find_next_sibling('div', attrs={'class': 'pi-data-value pi-font'})\n",
    "# if age_element != None:\n",
    "#     contestant['Age'] = age_element.text.strip()\n",
    "\n",
    "# THIS JUST OUTPUTS FEMALE FOR AGE, IT SEEMS LIKE IT'S ONLY LOOPING THROUGHT THE FIRST DIV\n",
    "age_element = div.find('div', attrs={'class': 'pi-data-value pi-font'})\n",
    "#<div class=\"pi-data-value pi-font\">31</div>\n",
    "if age_element != None:\n",
    "    contestant['Age'] = age_element.text.strip()\n",
    "\n",
    "print(contestant)"
   ]
  }
 ],
 "metadata": {
  "kernelspec": {
   "display_name": "Python 3",
   "language": "python",
   "name": "python3"
  },
  "language_info": {
   "codemirror_mode": {
    "name": "ipython",
    "version": 3
   },
   "file_extension": ".py",
   "mimetype": "text/x-python",
   "name": "python",
   "nbconvert_exporter": "python",
   "pygments_lexer": "ipython3",
   "version": "3.12.1"
  }
 },
 "nbformat": 4,
 "nbformat_minor": 2
}
