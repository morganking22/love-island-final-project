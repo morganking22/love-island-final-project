{
 "cells": [
  {
   "cell_type": "code",
   "execution_count": 22,
   "metadata": {},
   "outputs": [
    {
     "name": "stdout",
     "output_type": "stream",
     "text": [
      "              name  age          hometown date_entered          status\n",
      "0     Jess Harding  NaN               NaN          NaN             NaN\n",
      "1              NaN   22               NaN          NaN             NaN\n",
      "2              NaN  NaN   London, England          NaN             NaN\n",
      "3              NaN  NaN               NaN        Day 1             NaN\n",
      "4              NaN  NaN               NaN          NaN  Winner(Day 58)\n",
      "..             ...  ...               ...          ...             ...\n",
      "153  George Fensom  NaN               NaN          NaN             NaN\n",
      "154            NaN   24               NaN          NaN             NaN\n",
      "155            NaN  NaN  Bedford, England          NaN             NaN\n",
      "156            NaN  NaN               NaN        Day 1             NaN\n",
      "157            NaN  NaN               NaN          NaN   Dumped(Day 5)\n",
      "\n",
      "[158 rows x 5 columns]\n"
     ]
    }
   ],
   "source": [
    "from bs4 import BeautifulSoup\n",
    "import requests\n",
    "\n",
    "#print(response.status_code)\n",
    "\n",
    "for r in range(1, 11):\n",
    "    url = f\"https://loveisland.fandom.com/wiki/Love_Island_(Season_{r})\"\n",
    "\n",
    "    response = requests.get(url)\n",
    "    soup = BeautifulSoup(response.content, 'html.parser')\n",
    "\n",
    "    tables = soup.find_all(\"table\", {\"class\": \"wikitable\"})\n",
    "    islanders = tables[0]\n",
    "\n",
    "    rows = islanders.findAll(\"tr\")\n",
    "\n",
    "    contestant_data = []\n",
    "\n",
    "    for row in rows:\n",
    "        tds = row.find_all(\"td\")\n",
    "\n",
    "        for count, td in enumerate(tds):\n",
    "            contestant = {}\n",
    "            text = td.get_text()\n",
    "            text = text.strip('\\n')\n",
    "\n",
    "            match count:\n",
    "                case 0:\n",
    "                    #hex color\n",
    "                    pass\n",
    "                case 1:\n",
    "                    #name and href\n",
    "                    contestant.update({'name': text})\n",
    "                case 2:\n",
    "                    #age\n",
    "                    contestant.update({'age': text})\n",
    "                case 3:\n",
    "                    #hometown\n",
    "                    contestant.update({'hometown': text})\n",
    "                case 4:\n",
    "                    #date entered\n",
    "                    contestant.update({'date_entered': text})\n",
    "                case 5:\n",
    "                    #status on the island\n",
    "                    if text:\n",
    "                        contestant.update({'status': text})\n",
    "\n",
    "            if bool(contestant):\n",
    "                contestant_data.append(contestant)\n",
    "\n",
    "                #print(contestant)\n",
    "\n"
   ]
  },
  {
   "cell_type": "code",
   "execution_count": 20,
   "metadata": {},
   "outputs": [
    {
     "name": "stdout",
     "output_type": "stream",
     "text": [
      "              name  age          hometown date_entered          status\n",
      "0     Jess Harding  NaN               NaN          NaN             NaN\n",
      "1              NaN   22               NaN          NaN             NaN\n",
      "2              NaN  NaN   London, England          NaN             NaN\n",
      "3              NaN  NaN               NaN        Day 1             NaN\n",
      "4              NaN  NaN               NaN          NaN  Winner(Day 58)\n",
      "..             ...  ...               ...          ...             ...\n",
      "153  George Fensom  NaN               NaN          NaN             NaN\n",
      "154            NaN   24               NaN          NaN             NaN\n",
      "155            NaN  NaN  Bedford, England          NaN             NaN\n",
      "156            NaN  NaN               NaN        Day 1             NaN\n",
      "157            NaN  NaN               NaN          NaN   Dumped(Day 5)\n",
      "\n",
      "[158 rows x 5 columns]\n"
     ]
    }
   ],
   "source": [
    "import pandas as pd\n",
    "import csv\n",
    "\n",
    "data = contestant_data\n",
    "\n",
    "df = pd.DataFrame(data)\n",
    "\n",
    "print(df)\n",
    "\n",
    "df.to_csv(\"love_island_season_export.csv\")\n"
   ]
  },
  {
   "cell_type": "markdown",
   "metadata": {},
   "source": []
  }
 ],
 "metadata": {
  "kernelspec": {
   "display_name": "Python 3",
   "language": "python",
   "name": "python3"
  },
  "language_info": {
   "codemirror_mode": {
    "name": "ipython",
    "version": 3
   },
   "file_extension": ".py",
   "mimetype": "text/x-python",
   "name": "python",
   "nbconvert_exporter": "python",
   "pygments_lexer": "ipython3",
   "version": "3.12.1"
  }
 },
 "nbformat": 4,
 "nbformat_minor": 2
}
